{
 "cells": [
  {
   "cell_type": "code",
   "execution_count": 1,
   "metadata": {},
   "outputs": [],
   "source": [
    "# from sklearn.datasets import load_boston\n",
    "from sklearn.datasets import fetch_california_housing\n",
    "from sklearn.neighbors import KNeighborsRegressor\n",
    "from sklearn.preprocessing import StandardScaler\n",
    "from sklearn.pipeline import Pipeline\n",
    "from sklearn.model_selection import GridSearchCV\n",
    "import pandas as pd\n",
    "\n",
    "import matplotlib.pyplot as plt"
   ]
  },
  {
   "cell_type": "code",
   "execution_count": 2,
   "metadata": {},
   "outputs": [],
   "source": [
    "X,y = fetch_california_housing(return_X_y=True)"
   ]
  },
  {
   "cell_type": "code",
   "execution_count": 3,
   "metadata": {},
   "outputs": [
    {
     "data": {
      "text/plain": [
       "{'memory': None,\n",
       " 'steps': [('scale', StandardScaler()),\n",
       "  ('model', KNeighborsRegressor(n_neighbors=1))],\n",
       " 'verbose': False,\n",
       " 'scale': StandardScaler(),\n",
       " 'model': KNeighborsRegressor(n_neighbors=1),\n",
       " 'scale__copy': True,\n",
       " 'scale__with_mean': True,\n",
       " 'scale__with_std': True,\n",
       " 'model__algorithm': 'auto',\n",
       " 'model__leaf_size': 30,\n",
       " 'model__metric': 'minkowski',\n",
       " 'model__metric_params': None,\n",
       " 'model__n_jobs': None,\n",
       " 'model__n_neighbors': 1,\n",
       " 'model__p': 2,\n",
       " 'model__weights': 'uniform'}"
      ]
     },
     "execution_count": 3,
     "metadata": {},
     "output_type": "execute_result"
    }
   ],
   "source": [
    "# mod = KNeighborsRegressor().fit(X,y)\n",
    "pipe = Pipeline([\n",
    "    (\"scale\", StandardScaler()), \n",
    "    (\"model\", KNeighborsRegressor(n_neighbors=1))\n",
    "])\n",
    "\n",
    "pipe.get_params()"
   ]
  },
  {
   "cell_type": "code",
   "execution_count": 4,
   "metadata": {},
   "outputs": [],
   "source": [
    "mod = GridSearchCV(estimator=pipe, \n",
    "                   param_grid={'model__n_neighbors': [1,2,3,4,5,6,7,8,9,10]}, \n",
    "                   cv=3)"
   ]
  },
  {
   "cell_type": "code",
   "execution_count": 5,
   "metadata": {},
   "outputs": [
    {
     "name": "stderr",
     "output_type": "stream",
     "text": [
      "/home/osboxes/anaconda3/envs/scikit/lib/python3.13/site-packages/numpy/ma/core.py:2881: RuntimeWarning: invalid value encountered in cast\n",
      "  _data = np.array(data, dtype=dtype, copy=copy,\n"
     ]
    },
    {
     "data": {
      "text/html": [
       "<div>\n",
       "<style scoped>\n",
       "    .dataframe tbody tr th:only-of-type {\n",
       "        vertical-align: middle;\n",
       "    }\n",
       "\n",
       "    .dataframe tbody tr th {\n",
       "        vertical-align: top;\n",
       "    }\n",
       "\n",
       "    .dataframe thead th {\n",
       "        text-align: right;\n",
       "    }\n",
       "</style>\n",
       "<table border=\"1\" class=\"dataframe\">\n",
       "  <thead>\n",
       "    <tr style=\"text-align: right;\">\n",
       "      <th></th>\n",
       "      <th>mean_fit_time</th>\n",
       "      <th>std_fit_time</th>\n",
       "      <th>mean_score_time</th>\n",
       "      <th>std_score_time</th>\n",
       "      <th>param_model__n_neighbors</th>\n",
       "      <th>params</th>\n",
       "      <th>split0_test_score</th>\n",
       "      <th>split1_test_score</th>\n",
       "      <th>split2_test_score</th>\n",
       "      <th>mean_test_score</th>\n",
       "      <th>std_test_score</th>\n",
       "      <th>rank_test_score</th>\n",
       "    </tr>\n",
       "  </thead>\n",
       "  <tbody>\n",
       "    <tr>\n",
       "      <th>0</th>\n",
       "      <td>0.017775</td>\n",
       "      <td>0.005644</td>\n",
       "      <td>0.277896</td>\n",
       "      <td>0.022333</td>\n",
       "      <td>1</td>\n",
       "      <td>{'model__n_neighbors': 1}</td>\n",
       "      <td>0.324068</td>\n",
       "      <td>0.334830</td>\n",
       "      <td>0.323371</td>\n",
       "      <td>0.327423</td>\n",
       "      <td>0.005245</td>\n",
       "      <td>10</td>\n",
       "    </tr>\n",
       "    <tr>\n",
       "      <th>1</th>\n",
       "      <td>0.012044</td>\n",
       "      <td>0.000583</td>\n",
       "      <td>0.303031</td>\n",
       "      <td>0.023496</td>\n",
       "      <td>2</td>\n",
       "      <td>{'model__n_neighbors': 2}</td>\n",
       "      <td>0.468788</td>\n",
       "      <td>0.503457</td>\n",
       "      <td>0.424388</td>\n",
       "      <td>0.465544</td>\n",
       "      <td>0.032361</td>\n",
       "      <td>9</td>\n",
       "    </tr>\n",
       "    <tr>\n",
       "      <th>2</th>\n",
       "      <td>0.013131</td>\n",
       "      <td>0.000805</td>\n",
       "      <td>0.327185</td>\n",
       "      <td>0.025859</td>\n",
       "      <td>3</td>\n",
       "      <td>{'model__n_neighbors': 3}</td>\n",
       "      <td>0.518547</td>\n",
       "      <td>0.543340</td>\n",
       "      <td>0.473595</td>\n",
       "      <td>0.511827</td>\n",
       "      <td>0.028867</td>\n",
       "      <td>8</td>\n",
       "    </tr>\n",
       "    <tr>\n",
       "      <th>3</th>\n",
       "      <td>0.011821</td>\n",
       "      <td>0.000227</td>\n",
       "      <td>0.344837</td>\n",
       "      <td>0.029514</td>\n",
       "      <td>4</td>\n",
       "      <td>{'model__n_neighbors': 4}</td>\n",
       "      <td>0.540323</td>\n",
       "      <td>0.564974</td>\n",
       "      <td>0.499827</td>\n",
       "      <td>0.535041</td>\n",
       "      <td>0.026857</td>\n",
       "      <td>7</td>\n",
       "    </tr>\n",
       "    <tr>\n",
       "      <th>4</th>\n",
       "      <td>0.012082</td>\n",
       "      <td>0.001081</td>\n",
       "      <td>0.357866</td>\n",
       "      <td>0.021854</td>\n",
       "      <td>5</td>\n",
       "      <td>{'model__n_neighbors': 5}</td>\n",
       "      <td>0.551149</td>\n",
       "      <td>0.579313</td>\n",
       "      <td>0.511781</td>\n",
       "      <td>0.547414</td>\n",
       "      <td>0.027696</td>\n",
       "      <td>6</td>\n",
       "    </tr>\n",
       "    <tr>\n",
       "      <th>5</th>\n",
       "      <td>0.011930</td>\n",
       "      <td>0.000397</td>\n",
       "      <td>0.366876</td>\n",
       "      <td>0.027275</td>\n",
       "      <td>6</td>\n",
       "      <td>{'model__n_neighbors': 6}</td>\n",
       "      <td>0.558435</td>\n",
       "      <td>0.586185</td>\n",
       "      <td>0.521134</td>\n",
       "      <td>0.555251</td>\n",
       "      <td>0.026652</td>\n",
       "      <td>5</td>\n",
       "    </tr>\n",
       "    <tr>\n",
       "      <th>6</th>\n",
       "      <td>0.012978</td>\n",
       "      <td>0.000482</td>\n",
       "      <td>0.383679</td>\n",
       "      <td>0.029132</td>\n",
       "      <td>7</td>\n",
       "      <td>{'model__n_neighbors': 7}</td>\n",
       "      <td>0.564207</td>\n",
       "      <td>0.590509</td>\n",
       "      <td>0.525223</td>\n",
       "      <td>0.559979</td>\n",
       "      <td>0.026820</td>\n",
       "      <td>4</td>\n",
       "    </tr>\n",
       "    <tr>\n",
       "      <th>7</th>\n",
       "      <td>0.012228</td>\n",
       "      <td>0.000325</td>\n",
       "      <td>0.403036</td>\n",
       "      <td>0.037034</td>\n",
       "      <td>8</td>\n",
       "      <td>{'model__n_neighbors': 8}</td>\n",
       "      <td>0.568637</td>\n",
       "      <td>0.593942</td>\n",
       "      <td>0.529337</td>\n",
       "      <td>0.563972</td>\n",
       "      <td>0.026580</td>\n",
       "      <td>3</td>\n",
       "    </tr>\n",
       "    <tr>\n",
       "      <th>8</th>\n",
       "      <td>0.013370</td>\n",
       "      <td>0.000769</td>\n",
       "      <td>0.395827</td>\n",
       "      <td>0.027556</td>\n",
       "      <td>9</td>\n",
       "      <td>{'model__n_neighbors': 9}</td>\n",
       "      <td>0.571972</td>\n",
       "      <td>0.594863</td>\n",
       "      <td>0.529928</td>\n",
       "      <td>0.565588</td>\n",
       "      <td>0.026891</td>\n",
       "      <td>2</td>\n",
       "    </tr>\n",
       "    <tr>\n",
       "      <th>9</th>\n",
       "      <td>0.012261</td>\n",
       "      <td>0.000525</td>\n",
       "      <td>0.410484</td>\n",
       "      <td>0.024479</td>\n",
       "      <td>10</td>\n",
       "      <td>{'model__n_neighbors': 10}</td>\n",
       "      <td>0.573760</td>\n",
       "      <td>0.595831</td>\n",
       "      <td>0.532973</td>\n",
       "      <td>0.567522</td>\n",
       "      <td>0.026038</td>\n",
       "      <td>1</td>\n",
       "    </tr>\n",
       "  </tbody>\n",
       "</table>\n",
       "</div>"
      ],
      "text/plain": [
       "   mean_fit_time  std_fit_time  mean_score_time  std_score_time  \\\n",
       "0       0.017775      0.005644         0.277896        0.022333   \n",
       "1       0.012044      0.000583         0.303031        0.023496   \n",
       "2       0.013131      0.000805         0.327185        0.025859   \n",
       "3       0.011821      0.000227         0.344837        0.029514   \n",
       "4       0.012082      0.001081         0.357866        0.021854   \n",
       "5       0.011930      0.000397         0.366876        0.027275   \n",
       "6       0.012978      0.000482         0.383679        0.029132   \n",
       "7       0.012228      0.000325         0.403036        0.037034   \n",
       "8       0.013370      0.000769         0.395827        0.027556   \n",
       "9       0.012261      0.000525         0.410484        0.024479   \n",
       "\n",
       "   param_model__n_neighbors                      params  split0_test_score  \\\n",
       "0                         1   {'model__n_neighbors': 1}           0.324068   \n",
       "1                         2   {'model__n_neighbors': 2}           0.468788   \n",
       "2                         3   {'model__n_neighbors': 3}           0.518547   \n",
       "3                         4   {'model__n_neighbors': 4}           0.540323   \n",
       "4                         5   {'model__n_neighbors': 5}           0.551149   \n",
       "5                         6   {'model__n_neighbors': 6}           0.558435   \n",
       "6                         7   {'model__n_neighbors': 7}           0.564207   \n",
       "7                         8   {'model__n_neighbors': 8}           0.568637   \n",
       "8                         9   {'model__n_neighbors': 9}           0.571972   \n",
       "9                        10  {'model__n_neighbors': 10}           0.573760   \n",
       "\n",
       "   split1_test_score  split2_test_score  mean_test_score  std_test_score  \\\n",
       "0           0.334830           0.323371         0.327423        0.005245   \n",
       "1           0.503457           0.424388         0.465544        0.032361   \n",
       "2           0.543340           0.473595         0.511827        0.028867   \n",
       "3           0.564974           0.499827         0.535041        0.026857   \n",
       "4           0.579313           0.511781         0.547414        0.027696   \n",
       "5           0.586185           0.521134         0.555251        0.026652   \n",
       "6           0.590509           0.525223         0.559979        0.026820   \n",
       "7           0.593942           0.529337         0.563972        0.026580   \n",
       "8           0.594863           0.529928         0.565588        0.026891   \n",
       "9           0.595831           0.532973         0.567522        0.026038   \n",
       "\n",
       "   rank_test_score  \n",
       "0               10  \n",
       "1                9  \n",
       "2                8  \n",
       "3                7  \n",
       "4                6  \n",
       "5                5  \n",
       "6                4  \n",
       "7                3  \n",
       "8                2  \n",
       "9                1  "
      ]
     },
     "execution_count": 5,
     "metadata": {},
     "output_type": "execute_result"
    }
   ],
   "source": [
    "mod.fit(X,y)\n",
    "pd.DataFrame(mod.cv_results_)"
   ]
  },
  {
   "cell_type": "code",
   "execution_count": 6,
   "metadata": {},
   "outputs": [
    {
     "name": "stdout",
     "output_type": "stream",
     "text": [
      ".. _california_housing_dataset:\n",
      "\n",
      "California Housing dataset\n",
      "--------------------------\n",
      "\n",
      "**Data Set Characteristics:**\n",
      "\n",
      ":Number of Instances: 20640\n",
      "\n",
      ":Number of Attributes: 8 numeric, predictive attributes and the target\n",
      "\n",
      ":Attribute Information:\n",
      "    - MedInc        median income in block group\n",
      "    - HouseAge      median house age in block group\n",
      "    - AveRooms      average number of rooms per household\n",
      "    - AveBedrms     average number of bedrooms per household\n",
      "    - Population    block group population\n",
      "    - AveOccup      average number of household members\n",
      "    - Latitude      block group latitude\n",
      "    - Longitude     block group longitude\n",
      "\n",
      ":Missing Attribute Values: None\n",
      "\n",
      "This dataset was obtained from the StatLib repository.\n",
      "https://www.dcc.fc.up.pt/~ltorgo/Regression/cal_housing.html\n",
      "\n",
      "The target variable is the median house value for California districts,\n",
      "expressed in hundreds of thousands of dollars ($100,000).\n",
      "\n",
      "This dataset was derived from the 1990 U.S. census, using one row per census\n",
      "block group. A block group is the smallest geographical unit for which the U.S.\n",
      "Census Bureau publishes sample data (a block group typically has a population\n",
      "of 600 to 3,000 people).\n",
      "\n",
      "A household is a group of people residing within a home. Since the average\n",
      "number of rooms and bedrooms in this dataset are provided per household, these\n",
      "columns may take surprisingly large values for block groups with few households\n",
      "and many empty houses, such as vacation resorts.\n",
      "\n",
      "It can be downloaded/loaded using the\n",
      ":func:`sklearn.datasets.fetch_california_housing` function.\n",
      "\n",
      ".. rubric:: References\n",
      "\n",
      "- Pace, R. Kelley and Ronald Barry, Sparse Spatial Autoregressions,\n",
      "  Statistics and Probability Letters, 33 (1997) 291-297\n",
      "\n"
     ]
    }
   ],
   "source": [
    "print(fetch_california_housing()['DESCR'])"
   ]
  },
  {
   "cell_type": "code",
   "execution_count": 8,
   "metadata": {},
   "outputs": [
    {
     "data": {
      "text/plain": [
       "dict_keys(['data', 'target', 'frame', 'target_names', 'feature_names', 'DESCR'])"
      ]
     },
     "execution_count": 8,
     "metadata": {},
     "output_type": "execute_result"
    }
   ],
   "source": [
    "fetch_california_housing().keys()"
   ]
  },
  {
   "cell_type": "code",
   "execution_count": 12,
   "metadata": {},
   "outputs": [
    {
     "name": "stdout",
     "output_type": "stream",
     "text": [
      "type: <class 'numpy.ndarray'>\n",
      "data shape: (20640, 8)\n",
      "sampel data: \n",
      " [[8.32520000e+00 4.10000000e+01 6.98412698e+00 1.02380952e+00\n",
      "  3.22000000e+02]\n",
      " [8.30140000e+00 2.10000000e+01 6.23813708e+00 9.71880492e-01\n",
      "  2.40100000e+03]\n",
      " [7.25740000e+00 5.20000000e+01 8.28813559e+00 1.07344633e+00\n",
      "  4.96000000e+02]\n",
      " [5.64310000e+00 5.20000000e+01 5.81735160e+00 1.07305936e+00\n",
      "  5.58000000e+02]\n",
      " [3.84620000e+00 5.20000000e+01 6.28185328e+00 1.08108108e+00\n",
      "  5.65000000e+02]]\n"
     ]
    }
   ],
   "source": [
    "c_data=fetch_california_housing()['data']\n",
    "print(f'type: {type(c_data)}')\n",
    "print(f'data shape: {c_data.shape}')\n",
    "print(f\"sampel data: \\n {c_data[:5,:5]}\")"
   ]
  },
  {
   "cell_type": "code",
   "execution_count": 14,
   "metadata": {},
   "outputs": [
    {
     "name": "stdout",
     "output_type": "stream",
     "text": [
      "type: <class 'numpy.ndarray'>\n",
      "data shape: (20640,)\n",
      "sampel data: \n",
      " [4.526 3.585 3.521 3.413 3.422]\n"
     ]
    }
   ],
   "source": [
    "c_target=fetch_california_housing()['target']\n",
    "print(f'type: {type(c_target)}')\n",
    "print(f'data shape: {c_target.shape}')\n",
    "print(f\"sampel data: \\n {c_target[:5]}\")"
   ]
  },
  {
   "cell_type": "code",
   "execution_count": 16,
   "metadata": {},
   "outputs": [
    {
     "name": "stdout",
     "output_type": "stream",
     "text": [
      "feature name: \n",
      " ['MedInc', 'HouseAge', 'AveRooms', 'AveBedrms', 'Population', 'AveOccup', 'Latitude', 'Longitude']\n",
      "target name: \n",
      " ['MedHouseVal']\n"
     ]
    }
   ],
   "source": [
    "f_name = fetch_california_housing()['feature_names']\n",
    "t_name = fetch_california_housing()['target_names']\n",
    "print(f\"feature name: \\n {f_name}\")\n",
    "print(f\"target name: \\n {t_name}\")"
   ]
  },
  {
   "cell_type": "code",
   "execution_count": null,
   "metadata": {},
   "outputs": [],
   "source": [
    "print()"
   ]
  }
 ],
 "metadata": {
  "kernelspec": {
   "display_name": "scikit",
   "language": "python",
   "name": "python3"
  },
  "language_info": {
   "codemirror_mode": {
    "name": "ipython",
    "version": 3
   },
   "file_extension": ".py",
   "mimetype": "text/x-python",
   "name": "python",
   "nbconvert_exporter": "python",
   "pygments_lexer": "ipython3",
   "version": "3.13.1"
  }
 },
 "nbformat": 4,
 "nbformat_minor": 2
}
